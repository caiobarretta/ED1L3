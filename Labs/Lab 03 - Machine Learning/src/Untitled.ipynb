{
 "cells": [
  {
   "cell_type": "code",
   "execution_count": 1,
   "metadata": {},
   "outputs": [],
   "source": [
    "import pandas as pd\n",
    "import numpy as np\n",
    "from sklearn.neighbors import KNeighborsClassifier\n",
    "from scipy.spatial import distance\n",
    "import scipy\n",
    "import math\n",
    "import scipy.spatial\n",
    "from collections import Counter"
   ]
  },
  {
   "cell_type": "code",
   "execution_count": 2,
   "metadata": {},
   "outputs": [
    {
     "data": {
      "text/html": [
       "<div>\n",
       "<style scoped>\n",
       "    .dataframe tbody tr th:only-of-type {\n",
       "        vertical-align: middle;\n",
       "    }\n",
       "\n",
       "    .dataframe tbody tr th {\n",
       "        vertical-align: top;\n",
       "    }\n",
       "\n",
       "    .dataframe thead th {\n",
       "        text-align: right;\n",
       "    }\n",
       "</style>\n",
       "<table border=\"1\" class=\"dataframe\">\n",
       "  <thead>\n",
       "    <tr style=\"text-align: right;\">\n",
       "      <th></th>\n",
       "      <th>media</th>\n",
       "      <th>horas</th>\n",
       "      <th>aprovado</th>\n",
       "    </tr>\n",
       "  </thead>\n",
       "  <tbody>\n",
       "    <tr>\n",
       "      <th>0</th>\n",
       "      <td>1.0</td>\n",
       "      <td>0.50</td>\n",
       "      <td>0</td>\n",
       "    </tr>\n",
       "    <tr>\n",
       "      <th>1</th>\n",
       "      <td>1.5</td>\n",
       "      <td>0.75</td>\n",
       "      <td>0</td>\n",
       "    </tr>\n",
       "    <tr>\n",
       "      <th>2</th>\n",
       "      <td>2.0</td>\n",
       "      <td>0.00</td>\n",
       "      <td>0</td>\n",
       "    </tr>\n",
       "    <tr>\n",
       "      <th>3</th>\n",
       "      <td>2.5</td>\n",
       "      <td>1.00</td>\n",
       "      <td>0</td>\n",
       "    </tr>\n",
       "    <tr>\n",
       "      <th>4</th>\n",
       "      <td>3.0</td>\n",
       "      <td>1.25</td>\n",
       "      <td>0</td>\n",
       "    </tr>\n",
       "  </tbody>\n",
       "</table>\n",
       "</div>"
      ],
      "text/plain": [
       "   media  horas  aprovado\n",
       "0    1.0   0.50         0\n",
       "1    1.5   0.75         0\n",
       "2    2.0   0.00         0\n",
       "3    2.5   1.00         0\n",
       "4    3.0   1.25         0"
      ]
     },
     "execution_count": 2,
     "metadata": {},
     "output_type": "execute_result"
    }
   ],
   "source": [
    "treino = pd.read_csv(\"dados/3.fit\", sep=\" \")\n",
    "treino.head()"
   ]
  },
  {
   "cell_type": "code",
   "execution_count": 3,
   "metadata": {},
   "outputs": [
    {
     "data": {
      "text/html": [
       "<div>\n",
       "<style scoped>\n",
       "    .dataframe tbody tr th:only-of-type {\n",
       "        vertical-align: middle;\n",
       "    }\n",
       "\n",
       "    .dataframe tbody tr th {\n",
       "        vertical-align: top;\n",
       "    }\n",
       "\n",
       "    .dataframe thead th {\n",
       "        text-align: right;\n",
       "    }\n",
       "</style>\n",
       "<table border=\"1\" class=\"dataframe\">\n",
       "  <thead>\n",
       "    <tr style=\"text-align: right;\">\n",
       "      <th></th>\n",
       "      <th>media</th>\n",
       "      <th>horas</th>\n",
       "    </tr>\n",
       "  </thead>\n",
       "  <tbody>\n",
       "    <tr>\n",
       "      <th>0</th>\n",
       "      <td>5.5</td>\n",
       "      <td>2.50</td>\n",
       "    </tr>\n",
       "    <tr>\n",
       "      <th>1</th>\n",
       "      <td>8.3</td>\n",
       "      <td>4.25</td>\n",
       "    </tr>\n",
       "    <tr>\n",
       "      <th>2</th>\n",
       "      <td>6.8</td>\n",
       "      <td>7.20</td>\n",
       "    </tr>\n",
       "    <tr>\n",
       "      <th>3</th>\n",
       "      <td>7.5</td>\n",
       "      <td>9.50</td>\n",
       "    </tr>\n",
       "    <tr>\n",
       "      <th>4</th>\n",
       "      <td>9.0</td>\n",
       "      <td>1.00</td>\n",
       "    </tr>\n",
       "  </tbody>\n",
       "</table>\n",
       "</div>"
      ],
      "text/plain": [
       "   media  horas\n",
       "0    5.5   2.50\n",
       "1    8.3   4.25\n",
       "2    6.8   7.20\n",
       "3    7.5   9.50\n",
       "4    9.0   1.00"
      ]
     },
     "execution_count": 3,
     "metadata": {},
     "output_type": "execute_result"
    }
   ],
   "source": [
    "teste = pd.read_csv(\"dados/3.test\", sep=\" \")\n",
    "teste.head()"
   ]
  },
  {
   "cell_type": "code",
   "execution_count": 4,
   "metadata": {},
   "outputs": [],
   "source": [
    "m, n, k = 30, 10, 3"
   ]
  },
  {
   "cell_type": "code",
   "execution_count": 5,
   "metadata": {},
   "outputs": [],
   "source": [
    "neigh = KNeighborsClassifier(n_neighbors=k)"
   ]
  },
  {
   "cell_type": "code",
   "execution_count": 6,
   "metadata": {},
   "outputs": [],
   "source": [
    "def create_2D_array_from_1d_array(n, a, b):\n",
    "    array = []\n",
    "    for i in range(n):\n",
    "        array.append([a[i], b[i]])\n",
    "    return array"
   ]
  },
  {
   "cell_type": "code",
   "execution_count": 7,
   "metadata": {},
   "outputs": [],
   "source": [
    "X_train = create_2D_array_from_1d_array(m, treino.horas.to_numpy(), treino.media.to_numpy())"
   ]
  },
  {
   "cell_type": "code",
   "execution_count": 8,
   "metadata": {},
   "outputs": [],
   "source": [
    "X_test = create_2D_array_from_1d_array(n, teste.horas.to_numpy(), teste.media.to_numpy())"
   ]
  },
  {
   "cell_type": "code",
   "execution_count": 9,
   "metadata": {},
   "outputs": [],
   "source": [
    "y_train = treino.aprovado.array"
   ]
  },
  {
   "cell_type": "code",
   "execution_count": 10,
   "metadata": {},
   "outputs": [],
   "source": [
    "y_test = []"
   ]
  },
  {
   "cell_type": "code",
   "execution_count": 11,
   "metadata": {},
   "outputs": [
    {
     "data": {
      "text/plain": [
       "KNeighborsClassifier(n_neighbors=3)"
      ]
     },
     "execution_count": 11,
     "metadata": {},
     "output_type": "execute_result"
    }
   ],
   "source": [
    "neigh.fit(X_train, y_train)"
   ]
  },
  {
   "cell_type": "code",
   "execution_count": 12,
   "metadata": {},
   "outputs": [
    {
     "data": {
      "text/plain": [
       "array([1, 1, 1, 1, 0, 0, 0, 0, 1, 0])"
      ]
     },
     "execution_count": 12,
     "metadata": {},
     "output_type": "execute_result"
    }
   ],
   "source": [
    "predict = neigh.predict(X_test)\n",
    "predict"
   ]
  },
  {
   "cell_type": "code",
   "execution_count": 13,
   "metadata": {},
   "outputs": [
    {
     "name": "stdout",
     "output_type": "stream",
     "text": [
      "Aluno 0: (5.5, 2.5) = Aprovado\n",
      "Aluno 1: (8.3, 4.25) = Aprovado\n",
      "Aluno 2: (6.8, 7.2) = Aprovado\n",
      "Aluno 3: (7.5, 9.5) = Aprovado\n",
      "Aluno 4: (9.0, 1.0) = Reprovado\n",
      "Aluno 5: (3.8, 1.0) = Reprovado\n",
      "Aluno 6: (7.0, 0.5) = Reprovado\n",
      "Aluno 7: (6.3, 2.0) = Reprovado\n",
      "Aluno 8: (4.0, 3.0) = Aprovado\n",
      "Aluno 9: (2.0, 4.0) = Reprovado\n"
     ]
    }
   ],
   "source": [
    "for i in range(n):\n",
    "    media =  teste.media.array[i]\n",
    "    horas =  teste.horas.array[i]\n",
    "    aprovacao = (\"Aprovado\" if predict[i] == 1 else \"Reprovado\")\n",
    "    print(\"Aluno {}: ({}, {}) = {}\".format(i, media, horas, aprovacao))"
   ]
  },
  {
   "cell_type": "code",
   "execution_count": 14,
   "metadata": {},
   "outputs": [],
   "source": [
    "def dist_euclidiana(v1, v2):\n",
    "    dim, soma = len(v1), 0\n",
    "    for i in range(dim):\n",
    "        soma += math.pow(v1[i] - v2[i], 2)\n",
    "        #print(\"v1[{}]:{} - v2[{}]:{}\".format(i, v1[i], i, v2[i]))\n",
    "    return math.sqrt(soma)"
   ]
  },
  {
   "cell_type": "code",
   "execution_count": 15,
   "metadata": {},
   "outputs": [
    {
     "name": "stdout",
     "output_type": "stream",
     "text": [
      "Aluno 0: (5.5, 2.5) = Aprovado\n",
      "Aluno 1: (8.3, 4.25) = Aprovado\n",
      "Aluno 2: (6.8, 7.2) = Aprovado\n",
      "Aluno 3: (7.5, 9.5) = Aprovado\n",
      "Aluno 4: (9.0, 1.0) = Reprovado\n",
      "Aluno 5: (3.8, 1.0) = Reprovado\n",
      "Aluno 6: (7.0, 0.5) = Reprovado\n",
      "Aluno 7: (6.3, 2.0) = Reprovado\n",
      "Aluno 8: (4.0, 3.0) = Aprovado\n",
      "Aluno 9: (2.0, 4.0) = Reprovado\n"
     ]
    }
   ],
   "source": [
    "#float p1 = dadosTreino[i].notaMediaNaEscola;\n",
    "#float p2 = dadoTeste.notaMediaNaEscola;\n",
    "\n",
    "#float q1 = dadosTreino[i].horasDeEstudosSemanais;\n",
    "#float q2 = dadoTeste.horasDeEstudosSemanais;\n",
    "for i in range(n):\n",
    "    for j in range(m):\n",
    "        p1 = treino.media.array[j]\n",
    "        p2 = teste.media.array[i]\n",
    "        a = [p1, p2]\n",
    "        q1 = treino.horas.array[j]\n",
    "        q2 = teste.horas.array[i]\n",
    "        b = [q1, q2]\n",
    "        d = distance.euclidean(a, b)\n",
    "        d1 = dist_euclidiana(a, b)\n",
    "        #print(\"distance.euclidean: p1: {:.2f} p2: {:.2f} q1: {:.2f} q2: {:.2f} d: {:.6f}\".format(p1, p2, q1, q2, d));\n",
    "        #print(\"dist_euclidiana: p1: {:.2f} p2: {:.2f} q1: {:.2f} q2: {:.2f} d: {:.6f}\".format(p1, p2, q1, q2, d1));\n",
    "    media =  teste.media.array[i]\n",
    "    horas =  teste.horas.array[i]\n",
    "    aprovacao = (\"Aprovado\" if predict[i] == 1 else \"Reprovado\")\n",
    "    print(\"Aluno {}: ({}, {}) = {}\".format(i, media, horas, aprovacao))"
   ]
  },
  {
   "cell_type": "code",
   "execution_count": 16,
   "metadata": {},
   "outputs": [
    {
     "name": "stdout",
     "output_type": "stream",
     "text": [
      "Aluno 4: (9.0, 1.0) = Reprovado\n"
     ]
    }
   ],
   "source": [
    "i=4\n",
    "for j in range(m):\n",
    "    p1 = treino.media.array[j]\n",
    "    p2 = teste.media.array[i]\n",
    "    a = [p1, p2]\n",
    "    q1 = treino.horas.array[j]\n",
    "    q2 = teste.horas.array[i]\n",
    "    b = [q1, q2]\n",
    "    d = distance.euclidean(a, b)\n",
    "    d1 = dist_euclidiana(a, b)\n",
    "    #print(\"distance.euclidean: p1: {:.2f} p2: {:.2f} q1: {:.2f} q2: {:.2f} d: {:.6f}\".format(p1, p2, q1, q2, d));\n",
    "    #print(\"dist_euclidiana: p1: {:.2f} p2: {:.2f} q1: {:.2f} q2: {:.2f} d: {:.6f}\".format(p1, p2, q1, q2, d1));\n",
    "media =  teste.media.array[i]\n",
    "horas =  teste.horas.array[i]\n",
    "aprovacao = (\"Aprovado\" if predict[i] == 1 else \"Reprovado\")\n",
    "print(\"Aluno {}: ({}, {}) = {}\".format(i, media, horas, aprovacao))"
   ]
  },
  {
   "cell_type": "code",
   "execution_count": 17,
   "metadata": {},
   "outputs": [],
   "source": [
    "\n",
    "def classificacao(i):\n",
    "    lista = list()\n",
    "    for j in range(m):\n",
    "        p1 = treino.media.array[j]\n",
    "        p2 = teste.media.array[i]\n",
    "        a = [p1, p2]\n",
    "        q1 = treino.horas.array[j]\n",
    "        q2 = teste.horas.array[i]\n",
    "        b = [q1, q2]\n",
    "        d = distance.euclidean(a, b)\n",
    "        d1 = dist_euclidiana(a, b)\n",
    "        a = treino.aprovado.array[j]\n",
    "        lista.append({\"i\":j, \"d\": d, \"a\": a})\n",
    "\n",
    "    lista_ordenada = sorted(lista, key=lambda k: k['d'])\n",
    "    lista_k = lista_ordenada[0:k]\n",
    "    count_aprovados = 0\n",
    "    count_reprovados = 0\n",
    "    for i in range(k):\n",
    "        if(lista_k[i]['a'] == 1):\n",
    "            count_aprovados = count_aprovados + 1\n",
    "        else:\n",
    "            count_reprovados = count_reprovados + 1\n",
    "    #print(\"Aprovados:{}\".format(count_aprovados))\n",
    "    #print(\"Reprovados:{}\".format(count_reprovados))\n",
    "    if(count_aprovados > count_reprovados):\n",
    "        return \"Aprovado\"\n",
    "    else:\n",
    "        return \"Reprovado\""
   ]
  },
  {
   "cell_type": "code",
   "execution_count": 18,
   "metadata": {},
   "outputs": [
    {
     "name": "stdout",
     "output_type": "stream",
     "text": [
      "Aluno 0: (5.5, 2.5) = Aprovado\n",
      "Aluno 1: (8.3, 4.25) = Aprovado\n",
      "Aluno 2: (6.8, 7.2) = Aprovado\n",
      "Aluno 3: (7.5, 9.5) = Aprovado\n",
      "Aluno 4: (9.0, 1.0) = Aprovado\n",
      "Aluno 5: (3.8, 1.0) = Aprovado\n",
      "Aluno 6: (7.0, 0.5) = Aprovado\n",
      "Aluno 7: (6.3, 2.0) = Aprovado\n",
      "Aluno 8: (4.0, 3.0) = Aprovado\n",
      "Aluno 9: (2.0, 4.0) = Aprovado\n"
     ]
    }
   ],
   "source": [
    "for i in range(n):\n",
    "    aprovacao = classificacao(i)\n",
    "    media =  teste.media.array[i]\n",
    "    horas =  teste.horas.array[i]\n",
    "    print(\"Aluno {}: ({}, {}) = {}\".format(i, media, horas, aprovacao))"
   ]
  },
  {
   "cell_type": "code",
   "execution_count": 19,
   "metadata": {},
   "outputs": [],
   "source": [
    "class KNN:\n",
    "    def __init__(self, k):\n",
    "        self.k = k\n",
    "        \n",
    "    def fit(self, X, y):\n",
    "        self.X_train = X\n",
    "        self.y_train = y\n",
    "        \n",
    "    def distance(self, X1, X2):\n",
    "        distance = scipy.spatial.distance.euclidean(X1, X2)\n",
    "    \n",
    "    def predict(self, X_test):\n",
    "        final_output = []\n",
    "        for i in range(len(X_test)):\n",
    "            d = []\n",
    "            votes = []\n",
    "            for j in range(len(X_train)):\n",
    "                dist = scipy.spatial.distance.euclidean(X_train[j] , X_test[i])\n",
    "                d.append([dist, j])\n",
    "            #print(\"antes:\")\n",
    "            #for dist, j in d:\n",
    "            #    print(\"d:{} j:{}\".format(dist, j))\n",
    "                \n",
    "            d.sort()\n",
    "            #print(\"depois:\")\n",
    "            #for s in d:\n",
    "            #    print(\"d:{} j:{}\".format(s[0], s[1]))\n",
    "                \n",
    "            d = d[0:self.k]\n",
    "            #print(\"com k:\")\n",
    "            #for s in d:\n",
    "            #    print(\"d:{} j:{}\".format(s[0], s[1]))\n",
    "            for d, j in d:\n",
    "                votes.append(y_train[j])\n",
    "            ans = Counter(votes).most_common(1)[0][0]\n",
    "            final_output.append(ans)\n",
    "            \n",
    "        return final_output\n",
    "    \n",
    "    def score(self, X_test, y_test):\n",
    "        predictions = self.predict(X_test)\n",
    "        return (predictions == y_test).sum() / len(y_test)"
   ]
  },
  {
   "cell_type": "code",
   "execution_count": 20,
   "metadata": {
    "scrolled": true
   },
   "outputs": [
    {
     "name": "stdout",
     "output_type": "stream",
     "text": [
      "Aluno 0: (5.5, 2.5) = Aprovado\n",
      "Aluno 1: (8.3, 4.25) = Aprovado\n",
      "Aluno 2: (6.8, 7.2) = Aprovado\n",
      "Aluno 3: (7.5, 9.5) = Aprovado\n",
      "Aluno 4: (9.0, 1.0) = Reprovado\n",
      "Aluno 5: (3.8, 1.0) = Reprovado\n",
      "Aluno 6: (7.0, 0.5) = Reprovado\n",
      "Aluno 7: (6.3, 2.0) = Reprovado\n",
      "Aluno 8: (4.0, 3.0) = Aprovado\n",
      "Aluno 9: (2.0, 4.0) = Reprovado\n"
     ]
    }
   ],
   "source": [
    "clf = KNN(3)\n",
    "clf.fit(X_train, y_train)\n",
    "prediction = clf.predict(X_test)\n",
    "for i in range(n):\n",
    "    media =  teste.media.array[i]\n",
    "    horas =  teste.horas.array[i]\n",
    "    aprovacao = (\"Aprovado\" if prediction[i] == 1 else \"Reprovado\")\n",
    "    print(\"Aluno {}: ({}, {}) = {}\".format(i, media, horas, aprovacao))"
   ]
  },
  {
   "cell_type": "code",
   "execution_count": null,
   "metadata": {},
   "outputs": [],
   "source": []
  }
 ],
 "metadata": {
  "kernelspec": {
   "display_name": "Python 3",
   "language": "python",
   "name": "python3"
  },
  "language_info": {
   "codemirror_mode": {
    "name": "ipython",
    "version": 3
   },
   "file_extension": ".py",
   "mimetype": "text/x-python",
   "name": "python",
   "nbconvert_exporter": "python",
   "pygments_lexer": "ipython3",
   "version": "3.8.5"
  }
 },
 "nbformat": 4,
 "nbformat_minor": 4
}
